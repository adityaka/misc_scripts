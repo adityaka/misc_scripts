{
 "cells": [
  {
   "cell_type": "code",
   "execution_count": 114,
   "metadata": {},
   "outputs": [],
   "source": [
    "import pandas as pd\n",
    "import csv\n",
    "%matplotlib inline"
   ]
  },
  {
   "cell_type": "code",
   "execution_count": 115,
   "metadata": {
    "collapsed": true
   },
   "outputs": [],
   "source": [
    "%matplotlib inline"
   ]
  },
  {
   "cell_type": "code",
   "execution_count": 213,
   "metadata": {},
   "outputs": [],
   "source": [
    "\n",
    "jira_csv = csv.DictReader(open('JIRA.csv',\"r\"))\n",
    "jira_frame = pd.read_csv(filepath_or_buffer=\"JIRA.csv\",usecols=[\"Created\",\"Updated\",\"Project key\",\"Project name\"],parse_dates=['Created','Updated'],index_col=['Created'])"
   ]
  },
  {
   "cell_type": "code",
   "execution_count": 166,
   "metadata": {},
   "outputs": [
    {
     "data": {
      "text/html": [
       "<div>\n",
       "<style>\n",
       "    .dataframe thead tr:only-child th {\n",
       "        text-align: right;\n",
       "    }\n",
       "\n",
       "    .dataframe thead th {\n",
       "        text-align: left;\n",
       "    }\n",
       "\n",
       "    .dataframe tbody tr th {\n",
       "        vertical-align: top;\n",
       "    }\n",
       "</style>\n",
       "<table border=\"1\" class=\"dataframe\">\n",
       "  <thead>\n",
       "    <tr style=\"text-align: right;\">\n",
       "      <th></th>\n",
       "      <th>Project key</th>\n",
       "      <th>Project name</th>\n",
       "      <th>Created</th>\n",
       "      <th>Updated</th>\n",
       "    </tr>\n",
       "  </thead>\n",
       "  <tbody>\n",
       "    <tr>\n",
       "      <th>0</th>\n",
       "      <td>ZEP</td>\n",
       "      <td>ZEPPELIN</td>\n",
       "      <td>2017-08-08 17:08:00</td>\n",
       "      <td>2017-08-09 02:48:00</td>\n",
       "    </tr>\n",
       "    <tr>\n",
       "      <th>1</th>\n",
       "      <td>AD</td>\n",
       "      <td>Admin</td>\n",
       "      <td>2017-08-08 16:26:00</td>\n",
       "      <td>2017-08-09 00:17:00</td>\n",
       "    </tr>\n",
       "    <tr>\n",
       "      <th>2</th>\n",
       "      <td>SPAR</td>\n",
       "      <td>Spark</td>\n",
       "      <td>2017-08-07 17:19:00</td>\n",
       "      <td>2017-08-07 17:19:00</td>\n",
       "    </tr>\n",
       "    <tr>\n",
       "      <th>3</th>\n",
       "      <td>ACM</td>\n",
       "      <td>AWS Cluster Management</td>\n",
       "      <td>2017-08-04 22:23:00</td>\n",
       "      <td>2017-08-09 04:54:00</td>\n",
       "    </tr>\n",
       "    <tr>\n",
       "      <th>4</th>\n",
       "      <td>SPAR</td>\n",
       "      <td>Spark</td>\n",
       "      <td>2017-08-04 18:12:00</td>\n",
       "      <td>2017-08-06 22:50:00</td>\n",
       "    </tr>\n",
       "  </tbody>\n",
       "</table>\n",
       "</div>"
      ],
      "text/plain": [
       "  Project key            Project name             Created             Updated\n",
       "0         ZEP                ZEPPELIN 2017-08-08 17:08:00 2017-08-09 02:48:00\n",
       "1          AD                   Admin 2017-08-08 16:26:00 2017-08-09 00:17:00\n",
       "2        SPAR                   Spark 2017-08-07 17:19:00 2017-08-07 17:19:00\n",
       "3         ACM  AWS Cluster Management 2017-08-04 22:23:00 2017-08-09 04:54:00\n",
       "4        SPAR                   Spark 2017-08-04 18:12:00 2017-08-06 22:50:00"
      ]
     },
     "execution_count": 166,
     "metadata": {},
     "output_type": "execute_result"
    }
   ],
   "source": [
    "jira_frame.head(5)\n"
   ]
  },
  {
   "cell_type": "code",
   "execution_count": 264,
   "metadata": {},
   "outputs": [
    {
     "data": {
      "text/plain": [
       "MW        31\n",
       "ACM       27\n",
       "SPAR      27\n",
       "ZEP       21\n",
       "SOL       20\n",
       "HIVE      13\n",
       "UI        10\n",
       "PRES       9\n",
       "SQOOP      5\n",
       "SDK        5\n",
       "SCHED      5\n",
       "ODBC       4\n",
       "QBOL       4\n",
       "HADTWO     4\n",
       "AD         3\n",
       "HAD        3\n",
       "JDBC       2\n",
       "AN         2\n",
       "AIR        2\n",
       "ESC        1\n",
       "QTEZ       1\n",
       "EAM        1\n",
       "SEC        1\n",
       "QPIG       1\n",
       "Name: Project key, dtype: int64"
      ]
     },
     "execution_count": 264,
     "metadata": {},
     "output_type": "execute_result"
    }
   ],
   "source": [
    "jira_frame[jira_frame['Created year'] == 2017]['Project key'].value_counts()"
   ]
  },
  {
   "cell_type": "code",
   "execution_count": 284,
   "metadata": {},
   "outputs": [
    {
     "data": {
      "text/plain": [
       "SPARK_ZEP_GROUP    48\n",
       "MISC               47\n",
       "INFRA_GROUP        41\n",
       "HADOOP_GROUP       35\n",
       "MW                 31\n",
       "Name: Project group, dtype: int64"
      ]
     },
     "execution_count": 284,
     "metadata": {},
     "output_type": "execute_result"
    }
   ],
   "source": [
    "jira_frame[\"Created year\"] = jira_frame.index.year\n",
    "jira_frame[\"Created month\"] = jira_frame.index.month\n",
    "hadoop_group = ['PRES', 'HIVE', 'HADTWO','SQOOP', 'HAD', 'QTEZ']\n",
    "spark_group = [ 'SPAR','ZEP']\n",
    "infra_group = ['ACM','QBOL','SDK','SCHED']\n",
    "group_list = []\n",
    "for key in jira_frame['Project key']:\n",
    "    if key in hadoop_group:\n",
    "        group_list.append( 'HADOOP_GROUP')\n",
    "    elif key in spark_group:\n",
    "        group_list.append('SPARK_ZEP_GROUP')\n",
    "    elif key in infra_group:\n",
    "        group_list.append('INFRA_GROUP')\n",
    "    elif key == \"MW\":\n",
    "        group_list.append(key)\n",
    "    else:\n",
    "        group_list.append('MISC')\n",
    "    \n",
    "jira_frame['Project group'] = group_list\n",
    "jira_frame[jira_frame['Created year'] == 2017]['Project group'].value_counts()"
   ]
  },
  {
   "cell_type": "code",
   "execution_count": 300,
   "metadata": {},
   "outputs": [
    {
     "data": {
      "text/plain": [
       "Created month\n",
       "1    13\n",
       "2    16\n",
       "3    24\n",
       "4    28\n",
       "5    43\n",
       "6    33\n",
       "7    33\n",
       "8    12\n",
       "dtype: int64"
      ]
     },
     "execution_count": 300,
     "metadata": {},
     "output_type": "execute_result"
    }
   ],
   "source": [
    "jira_frame[jira_frame['Created year'] == 2017].groupby(['Created month']).size()\n"
   ]
  },
  {
   "cell_type": "code",
   "execution_count": 304,
   "metadata": {},
   "outputs": [
    {
     "data": {
      "text/plain": [
       "Created month  Project key\n",
       "1              ACM            2\n",
       "               AD             1\n",
       "               HIVE           3\n",
       "               ODBC           1\n",
       "               PRES           1\n",
       "               SEC            1\n",
       "               SPAR           2\n",
       "               SQOOP          1\n",
       "               ZEP            1\n",
       "2              ACM            1\n",
       "               AD             1\n",
       "               MW             4\n",
       "               PRES           1\n",
       "               QBOL           1\n",
       "               SCHED          1\n",
       "               SDK            1\n",
       "               SPAR           4\n",
       "               ZEP            2\n",
       "3              ACM            4\n",
       "               EAM            1\n",
       "               HADTWO         1\n",
       "               HIVE           1\n",
       "               MW             5\n",
       "               ODBC           1\n",
       "               SOL            2\n",
       "               SPAR           4\n",
       "               SQOOP          1\n",
       "               UI             2\n",
       "               ZEP            2\n",
       "4              ACM            3\n",
       "                             ..\n",
       "6              QPIG           1\n",
       "               SCHED          1\n",
       "               SDK            2\n",
       "               SOL            6\n",
       "               SPAR           6\n",
       "               UI             4\n",
       "               ZEP            2\n",
       "7              ACM            5\n",
       "               AIR            2\n",
       "               AN             1\n",
       "               ESC            1\n",
       "               HAD            2\n",
       "               HADTWO         1\n",
       "               HIVE           3\n",
       "               JDBC           1\n",
       "               MW             4\n",
       "               ODBC           1\n",
       "               QBOL           1\n",
       "               SCHED          1\n",
       "               SPAR           5\n",
       "               SQOOP          2\n",
       "               ZEP            3\n",
       "8              ACM            2\n",
       "               AD             1\n",
       "               HADTWO         1\n",
       "               HIVE           1\n",
       "               MW             2\n",
       "               PRES           1\n",
       "               SPAR           2\n",
       "               ZEP            2\n",
       "Length: 91, dtype: int64"
      ]
     },
     "execution_count": 304,
     "metadata": {},
     "output_type": "execute_result"
    }
   ],
   "source": [
    "jira_frame[jira_frame['Created year'] == 2017].groupby(['Created month','Project key']).size()\n"
   ]
  },
  {
   "cell_type": "code",
   "execution_count": 299,
   "metadata": {},
   "outputs": [
    {
     "ename": "KeyError",
     "evalue": "'Column not found: False'",
     "output_type": "error",
     "traceback": [
      "\u001b[0;31m---------------------------------------------------------------------------\u001b[0m",
      "\u001b[0;31mKeyError\u001b[0m                                  Traceback (most recent call last)",
      "\u001b[0;32m<ipython-input-299-7123ffb9bd02>\u001b[0m in \u001b[0;36m<module>\u001b[0;34m()\u001b[0m\n\u001b[1;32m      1\u001b[0m \u001b[0mgroup_by_month\u001b[0m \u001b[0;34m=\u001b[0m \u001b[0mjira_frame\u001b[0m\u001b[0;34m[\u001b[0m\u001b[0mjira_frame\u001b[0m\u001b[0;34m[\u001b[0m\u001b[0;34m'Created year'\u001b[0m\u001b[0;34m]\u001b[0m \u001b[0;34m==\u001b[0m \u001b[0;36m2017\u001b[0m\u001b[0;34m]\u001b[0m\u001b[0;34m.\u001b[0m\u001b[0mgroupby\u001b[0m\u001b[0;34m(\u001b[0m\u001b[0;34m[\u001b[0m\u001b[0;34m'Created month'\u001b[0m\u001b[0;34m,\u001b[0m\u001b[0;34m'Project key'\u001b[0m\u001b[0;34m]\u001b[0m\u001b[0;34m)\u001b[0m\u001b[0;34m\u001b[0m\u001b[0m\n\u001b[0;32m----> 2\u001b[0;31m \u001b[0mgroup_by_month\u001b[0m\u001b[0;34m[\u001b[0m\u001b[0;34m[\u001b[0m\u001b[0;34m'Project key'\u001b[0m\u001b[0;34m]\u001b[0m \u001b[0;34m==\u001b[0m \u001b[0;34m'ACM'\u001b[0m\u001b[0;34m]\u001b[0m\u001b[0;34m\u001b[0m\u001b[0m\n\u001b[0m",
      "\u001b[0;32m/src/pyenvs/addyqdsenv/local/lib/python2.7/site-packages/pandas/core/base.pyc\u001b[0m in \u001b[0;36m__getitem__\u001b[0;34m(self, key)\u001b[0m\n\u001b[1;32m    352\u001b[0m         \u001b[0;32melse\u001b[0m\u001b[0;34m:\u001b[0m\u001b[0;34m\u001b[0m\u001b[0m\n\u001b[1;32m    353\u001b[0m             \u001b[0;32mif\u001b[0m \u001b[0mkey\u001b[0m \u001b[0;32mnot\u001b[0m \u001b[0;32min\u001b[0m \u001b[0mself\u001b[0m\u001b[0;34m.\u001b[0m\u001b[0mobj\u001b[0m\u001b[0;34m:\u001b[0m\u001b[0;34m\u001b[0m\u001b[0m\n\u001b[0;32m--> 354\u001b[0;31m                 \u001b[0;32mraise\u001b[0m \u001b[0mKeyError\u001b[0m\u001b[0;34m(\u001b[0m\u001b[0;34m\"Column not found: %s\"\u001b[0m \u001b[0;34m%\u001b[0m \u001b[0mkey\u001b[0m\u001b[0;34m)\u001b[0m\u001b[0;34m\u001b[0m\u001b[0m\n\u001b[0m\u001b[1;32m    355\u001b[0m             \u001b[0;32mreturn\u001b[0m \u001b[0mself\u001b[0m\u001b[0;34m.\u001b[0m\u001b[0m_gotitem\u001b[0m\u001b[0;34m(\u001b[0m\u001b[0mkey\u001b[0m\u001b[0;34m,\u001b[0m \u001b[0mndim\u001b[0m\u001b[0;34m=\u001b[0m\u001b[0;36m1\u001b[0m\u001b[0;34m)\u001b[0m\u001b[0;34m\u001b[0m\u001b[0m\n\u001b[1;32m    356\u001b[0m \u001b[0;34m\u001b[0m\u001b[0m\n",
      "\u001b[0;31mKeyError\u001b[0m: 'Column not found: False'"
     ]
    }
   ],
   "source": [
    "group_by_month = jira_frame[jira_frame['Created year'] == 2017].groupby(['Created month','Project key'])"
   ]
  },
  {
   "cell_type": "code",
   "execution_count": null,
   "metadata": {
    "collapsed": true
   },
   "outputs": [],
   "source": []
  }
 ],
 "metadata": {
  "kernelspec": {
   "display_name": "Python 2",
   "language": "python",
   "name": "python2"
  },
  "language_info": {
   "codemirror_mode": {
    "name": "ipython",
    "version": 2
   },
   "file_extension": ".py",
   "mimetype": "text/x-python",
   "name": "python",
   "nbconvert_exporter": "python",
   "pygments_lexer": "ipython2",
   "version": "2.7.13"
  }
 },
 "nbformat": 4,
 "nbformat_minor": 2
}
