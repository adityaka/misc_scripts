{
 "cells": [
  {
   "cell_type": "markdown",
   "metadata": {},
   "source": [
    "# This is a title \n",
    "\n",
    "## This second level Title \n",
    "\n",
    "### this is a fourth level title \n",
    "\n",
    "- This is a list \n",
    "  - this is an indented entry \n",
    "    - this is another indented entry to second level \n",
    "- Again a first level entry \n"
   ]
  },
  {
   "cell_type": "markdown",
   "metadata": {},
   "source": [
    "**Markdown tables** use the [Markdown table generators](http://www.tablesgenerator.com/markdown_tables)\n",
    "\n",
    "|Heading1|Heading2|Heading3|\n",
    "|--------|--------|--------|\n",
    "|data1   |data2   |data3   |\n",
    "|long data1|long data2|long data3|\n",
    "|very long data 1| very long data 2|very long data 3|"
   ]
  },
  {
   "cell_type": "markdown",
   "metadata": {},
   "source": [
    "\\begin(equation) \\sum(k)"
   ]
  },
  {
   "cell_type": "code",
   "execution_count": null,
   "metadata": {
    "collapsed": true
   },
   "outputs": [],
   "source": []
  }
 ],
 "metadata": {
  "kernelspec": {
   "display_name": "Python 2",
   "language": "python",
   "name": "python2"
  },
  "language_info": {
   "codemirror_mode": {
    "name": "ipython",
    "version": 2
   },
   "file_extension": ".py",
   "mimetype": "text/x-python",
   "name": "python",
   "nbconvert_exporter": "python",
   "pygments_lexer": "ipython2",
   "version": "2.7.13"
  }
 },
 "nbformat": 4,
 "nbformat_minor": 2
}
