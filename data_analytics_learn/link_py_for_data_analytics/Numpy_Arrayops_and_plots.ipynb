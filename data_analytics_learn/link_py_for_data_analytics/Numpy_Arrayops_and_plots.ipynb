{
 "cells": [
  {
   "cell_type": "markdown",
   "metadata": {},
   "source": [
    "## Numpy Array operations"
   ]
  },
  {
   "cell_type": "code",
   "execution_count": 1,
   "metadata": {
    "collapsed": true
   },
   "outputs": [],
   "source": [
    "import numpy as np \n"
   ]
  },
  {
   "cell_type": "code",
   "execution_count": 5,
   "metadata": {},
   "outputs": [
    {
     "data": {
      "text/plain": [
       "array([1, 2, 3, 4, 5])"
      ]
     },
     "execution_count": 5,
     "metadata": {},
     "output_type": "execute_result"
    }
   ],
   "source": [
    "#Single Dimension Array\n",
    "np.array([1,2,3,4,5], dtype=int)"
   ]
  },
  {
   "cell_type": "code",
   "execution_count": 6,
   "metadata": {},
   "outputs": [
    {
     "data": {
      "text/plain": [
       "array([[1, 2, 3, 4, 5, 6],\n",
       "       [6, 5, 4, 3, 2, 1]])"
      ]
     },
     "execution_count": 6,
     "metadata": {},
     "output_type": "execute_result"
    }
   ],
   "source": [
    "#2 dimensional array a list of lists or nested lists \n",
    "np.array([[1,2,3,4,5,6],[6,5,4,3,2,1]],dtype=int)"
   ]
  },
  {
   "cell_type": "code",
   "execution_count": 7,
   "metadata": {},
   "outputs": [
    {
     "data": {
      "text/plain": [
       "((3, 4), 12, 2)"
      ]
     },
     "execution_count": 7,
     "metadata": {},
     "output_type": "execute_result"
    }
   ],
   "source": [
    "#array dimensions and size and shape elements \n",
    "a = np.array([[1,2,3,4],[1,2,3,4],[1,2,3,4]],dtype=np.float64)\n",
    "(a.shape,a.size,a.ndim)\n",
    "#Shape shows the rows,cols\n",
    "#size is total number of elements\n",
    "#ndim is number of dimensions in n-1 I guess it's counting from 0 "
   ]
  },
  {
   "cell_type": "code",
   "execution_count": 9,
   "metadata": {},
   "outputs": [
    {
     "data": {
      "text/plain": [
       "array([[140193887656888,  94092269541072,              32,              80],\n",
       "       [ 94092271181280,              64,  94092270553728, 140193828049040],\n",
       "       [140193303471040, 140193828049040, 140193303472624, 140193829595488]])"
      ]
     },
     "execution_count": 9,
     "metadata": {},
     "output_type": "execute_result"
    }
   ],
   "source": [
    "#empty array contains garbage values \n",
    "np.empty((3,4),dtype=np.int)"
   ]
  },
  {
   "cell_type": "code",
   "execution_count": 12,
   "metadata": {},
   "outputs": [
    {
     "data": {
      "text/plain": [
       "array([ 0,  2,  5,  7, 10])"
      ]
     },
     "execution_count": 12,
     "metadata": {},
     "output_type": "execute_result"
    }
   ],
   "source": [
    "# choose random elements and create an array we use linspace \n",
    "np.linspace(0,10,5,dtype=np.int64)\n",
    "# third parameter is number of elements \n",
    "# by default the linspace calculates floats we can change the dtype to int"
   ]
  },
  {
   "cell_type": "code",
   "execution_count": 11,
   "metadata": {},
   "outputs": [
    {
     "data": {
      "text/plain": [
       "array([0, 2, 4, 6, 8])"
      ]
     },
     "execution_count": 11,
     "metadata": {},
     "output_type": "execute_result"
    }
   ],
   "source": [
    "# create a range \n",
    "np.arange(0,10,2)\n",
    "# like a range but gets us a numpy array with third parameter as step \n",
    "# again dtype is a common type parameter "
   ]
  },
  {
   "cell_type": "code",
   "execution_count": 13,
   "metadata": {},
   "outputs": [
    {
     "data": {
      "text/plain": [
       "array([[ 0.69662608,  0.39389329, -1.3728838 ],\n",
       "       [-0.02540331, -0.19404096,  1.7202016 ]])"
      ]
     },
     "execution_count": 13,
     "metadata": {},
     "output_type": "execute_result"
    }
   ],
   "source": [
    "#random arrays \n",
    "np.random.standard_normal((2,3))"
   ]
  },
  {
   "cell_type": "code",
   "execution_count": 27,
   "metadata": {},
   "outputs": [
    {
     "name": "stdout",
     "output_type": "stream",
     "text": [
      "[[ 0.94069025 -1.32341009 -0.40383339  1.69713456  0.68327448  0.86482882\n",
      "  -0.58051173  0.46540713]\n",
      " [ 1.20895085  1.03680941  0.31675182  0.70252473  0.22969004 -0.00235685\n",
      "  -0.52126484 -1.70065404]\n",
      " [-0.41750546 -0.41934416  0.65433152  0.18110413  1.30142084  1.32217929\n",
      "  -1.0539577  -0.49209858]]\n",
      "[[ 0.94069025 -1.32341009 -0.40383339  1.69713456]\n",
      " [ 1.20895085  1.03680941  0.31675182  0.70252473]\n",
      " [-0.41750546 -0.41934416  0.65433152  0.18110413]\n",
      " [ 0.68327448  0.86482882 -0.58051173  0.46540713]\n",
      " [ 0.22969004 -0.00235685 -0.52126484 -1.70065404]\n",
      " [ 1.30142084  1.32217929 -1.0539577  -0.49209858]]\n"
     ]
    }
   ],
   "source": [
    "#stacking compatible random arrays \n",
    "a1 = np.random.standard_normal((3,4))\n",
    "a2 = np.random.standard_normal((3,4))\n",
    "#horizontal stack \n",
    "print np.hstack([a1,a2])\n",
    "#vertical stack \n",
    "print np.vstack([a1,a2])\n",
    "\n"
   ]
  },
  {
   "cell_type": "code",
   "execution_count": 21,
   "metadata": {},
   "outputs": [
    {
     "data": {
      "text/plain": [
       "array([[-0.55212193, -0.7624127 ,  0.44704066],\n",
       "       [ 0.70517463, -0.81933392, -1.53244242],\n",
       "       [ 0.09543425, -2.09923708, -1.32362342],\n",
       "       [ 1.06792645,  1.0415718 , -1.51652799]])"
      ]
     },
     "execution_count": 21,
     "metadata": {},
     "output_type": "execute_result"
    }
   ],
   "source": [
    "np.transpose(a1) #reverse rows and columns "
   ]
  },
  {
   "cell_type": "code",
   "execution_count": 22,
   "metadata": {
    "collapsed": true
   },
   "outputs": [],
   "source": [
    "np.save(arr=a1, file=\"a1.npy\")"
   ]
  },
  {
   "cell_type": "code",
   "execution_count": 23,
   "metadata": {
    "collapsed": true
   },
   "outputs": [],
   "source": [
    "a1 = np.load(file=\"a1.npy\")"
   ]
  },
  {
   "cell_type": "code",
   "execution_count": 24,
   "metadata": {},
   "outputs": [
    {
     "data": {
      "text/plain": [
       "array([[-0.55212193,  0.70517463,  0.09543425,  1.06792645],\n",
       "       [-0.7624127 , -0.81933392, -2.09923708,  1.0415718 ],\n",
       "       [ 0.44704066, -1.53244242, -1.32362342, -1.51652799]])"
      ]
     },
     "execution_count": 24,
     "metadata": {},
     "output_type": "execute_result"
    }
   ],
   "source": [
    "a1"
   ]
  },
  {
   "cell_type": "code",
   "execution_count": 25,
   "metadata": {},
   "outputs": [
    {
     "name": "stdout",
     "output_type": "stream",
     "text": [
      "[[-0.55212193  0.70517463  0.09543425  1.06792645]\n",
      " [-0.7624127  -0.81933392 -2.09923708  1.0415718 ]\n",
      " [ 0.44704066 -1.53244242 -1.32362342 -1.51652799]]\n"
     ]
    }
   ],
   "source": [
    "print a1"
   ]
  },
  {
   "cell_type": "code",
   "execution_count": 26,
   "metadata": {},
   "outputs": [
    {
     "name": "stdout",
     "output_type": "stream",
     "text": [
      "[[ 0.11070295  0.78697161 -0.32229661  0.87148353]\n",
      " [ 0.00888099  2.25473175 -0.99620482 -0.00957208]\n",
      " [ 0.72997664 -0.86590151 -1.29971922 -0.48851454]]\n"
     ]
    }
   ],
   "source": [
    "print a2 "
   ]
  },
  {
   "cell_type": "markdown",
   "metadata": {},
   "source": [
    "## We will start the Fun with numbers here "
   ]
  },
  {
   "cell_type": "code",
   "execution_count": 46,
   "metadata": {},
   "outputs": [
    {
     "data": {
      "text/plain": [
       "[<matplotlib.lines.Line2D at 0x7f813cd77a90>]"
      ]
     },
     "execution_count": 46,
     "metadata": {},
     "output_type": "execute_result"
    },
    {
     "data": {
      "image/png": "[encoded data removed]",
      "text/plain": [
       "<matplotlib.figure.Figure at 0x7f813d232350>"
      ]
     },
     "metadata": {},
     "output_type": "display_data"
    }
   ],
   "source": [
    "import matplotlib.pyplot as pp \n",
    "%matplotlib inline\n",
    "a1 = np.linspace(0,100,10) # 50 numbers between 0 - 100 \n",
    "sin_dist = np.sin(a1)\n",
    "cosin_dist = np.cos(a1)\n",
    "tan_dist = np.tan(a1)\n",
    "pp.plot(a1,sin_dist)\n",
    "pp.plot(a1,cosin_dist)\n",
    "pp.plot(a1,tan_dist)\n",
    "\n",
    "# this is fun to play with \n"
   ]
  },
  {
   "cell_type": "code",
   "execution_count": 47,
   "metadata": {},
   "outputs": [
    {
     "data": {
      "text/plain": [
       "[<matplotlib.lines.Line2D at 0x7f813cd21c50>]"
      ]
     },
     "execution_count": 47,
     "metadata": {},
     "output_type": "execute_result"
    },
    {
     "data": {
      "image/png": "[encoded data removed]",
      "text/plain": [
       "<matplotlib.figure.Figure at 0x7f813d07e650>"
      ]
     },
     "metadata": {},
     "output_type": "display_data"
    }
   ],
   "source": [
    "pp.plot(a1,cosin_dist**2)"
   ]
  },
  {
   "cell_type": "code",
   "execution_count": 48,
   "metadata": {},
   "outputs": [
    {
     "data": {
      "text/plain": [
       "[<matplotlib.lines.Line2D at 0x7f813cc5ca50>]"
      ]
     },
     "execution_count": 48,
     "metadata": {},
     "output_type": "execute_result"
    },
    {
     "data": {
      "image/png": "[encoded data removed]",
      "text/plain": [
       "<matplotlib.figure.Figure at 0x7f813ccbe150>"
      ]
     },
     "metadata": {},
     "output_type": "display_data"
    }
   ],
   "source": [
    "pp.plot(a1,cosin_dist/2)"
   ]
  },
  {
   "cell_type": "code",
   "execution_count": 50,
   "metadata": {},
   "outputs": [
    {
     "data": {
      "text/plain": [
       "[<matplotlib.lines.Line2D at 0x7f813cb64f10>]"
      ]
     },
     "execution_count": 50,
     "metadata": {},
     "output_type": "execute_result"
    },
    {
     "data": {
      "image/png": "[encoded data removed]",
      "text/plain": [
       "<matplotlib.figure.Figure at 0x7f813d579210>"
      ]
     },
     "metadata": {},
     "output_type": "display_data"
    }
   ],
   "source": [
    "pp.plot(a1,cosin_dist+sin_dist)"
   ]
  },
  {
   "cell_type": "code",
   "execution_count": 51,
   "metadata": {},
   "outputs": [
    {
     "data": {
      "text/plain": [
       "array([False,  True,  True,  True,  True,  True,  True,  True,  True,  True], dtype=bool)"
      ]
     },
     "execution_count": 51,
     "metadata": {},
     "output_type": "execute_result"
    }
   ],
   "source": [
    "a1 > 0"
   ]
  },
  {
   "cell_type": "code",
   "execution_count": 55,
   "metadata": {},
   "outputs": [
    {
     "data": {
      "text/plain": [
       "array([[ 2.03366922,  2.24458807, -2.54866574, -1.25388952],\n",
       "       [-0.88485751, -0.74255674,  0.63153969,  0.51044139],\n",
       "       [ 1.40287704, -1.07677806,  1.51575702, -1.27503544]])"
      ]
     },
     "execution_count": 55,
     "metadata": {},
     "output_type": "execute_result"
    }
   ],
   "source": [
    "a1 = np.random.standard_normal((3,4))\n",
    "a2 = np.random.standard_normal()"
   ]
  },
  {
   "cell_type": "markdown",
   "metadata": {
    "collapsed": true
   },
   "source": [
    "# End of notebook"
   ]
  }
 ],
 "metadata": {
  "kernelspec": {
   "display_name": "Python 2",
   "language": "python",
   "name": "python2"
  },
  "language_info": {
   "codemirror_mode": {
    "name": "ipython",
    "version": 2
   },
   "file_extension": ".py",
   "mimetype": "text/x-python",
   "name": "python",
   "nbconvert_exporter": "python",
   "pygments_lexer": "ipython2",
   "version": "2.7.13"
  }
 },
 "nbformat": 4,
 "nbformat_minor": 2
}
